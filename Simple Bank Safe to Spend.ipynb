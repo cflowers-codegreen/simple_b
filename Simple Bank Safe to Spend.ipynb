{
 "cells": [
  {
   "cell_type": "markdown",
   "id": "f3e7e301",
   "metadata": {},
   "source": [
    "I loved simple bank. It was the easies banking interface ever. And it geared to help me save money not spend it, lol.\n",
    "\n",
    "Sadly, they're gone. So, here's my initial crack at making one."
   ]
  },
  {
   "cell_type": "code",
   "execution_count": 21,
   "id": "dc80b743",
   "metadata": {},
   "outputs": [],
   "source": [
    "import pandas as pd\n",
    "import numpy as np\n",
    "#import datetime as dt     \n",
    "today = pd.to_datetime('today').normalize()"
   ]
  },
  {
   "cell_type": "code",
   "execution_count": 22,
   "id": "52bae81d",
   "metadata": {},
   "outputs": [],
   "source": [
    "# working functions here\n",
    "\n",
    "def create_date_table(start='2000-01-01', end='2050-12-31'):\n",
    "    df = pd.DataFrame({\"Date\": pd.date_range(start, end)})\n",
    "    df[\"Day_Name\"] = df.Date.dt.day_name()\n",
    "    # new column\n",
    "    df[\"Day\"] = df.Date.dt.day\n",
    "    df[\"Week\"] = df.Date.dt.weekofyear\n",
    "    df[\"Quarter\"] = df.Date.dt.quarter\n",
    "    df[\"Year\"] = df.Date.dt.year\n",
    "    df[\"Year_half\"] = (df.Quarter + 1) // 2\n",
    "    return df\n",
    "\n",
    "def calculate_paydays(df_cal, payday = '2021-08-25', frequency = 2, income = 1200):\n",
    "    #payday = input(\"When's your next payday? \")\n",
    "    #frequency = input(\"How often do you get paid? (enter 1 for weekly, 2 for bi-weekly, 3 for monthy, 4 for twice monthly) \")\n",
    "    #df_cal['payday'] = np.where(df_cal['Date'] == payday, 'payday', '')\n",
    "    #income = input(\"How much money do you get each payday? \")\n",
    "    start = df_cal.index[df_cal['Date'] == payday].tolist()\n",
    "    paydays = df_cal[df_cal.index % 14 == start[0]].index\n",
    "    df_cal['payday'] = np.where(df_cal.index.isin(paydays), 'payday', np.NaN)\n",
    "    df_cal['income'] = np.where(df_cal.index.isin(paydays), income, np.NaN)\n",
    "    df_cal['set_aside'] = np.NaN\n",
    "    \n",
    "# what on earth is this function doing....\n",
    "def set_aside_all(goals, bills, df_cal):\n",
    "    goals['save_per_day'] = np.NaN\n",
    "    for index, row in goals.iterrows():\n",
    "        due_date = row['due_date']\n",
    "        paydays_between = df_cal[(df_cal.payday == 'payday')\n",
    "                                 & (df_cal.Date > today)\n",
    "                                 & (df_cal.Date < due_date)\n",
    "                                ].payday.count()\n",
    "        savings_per_payday = row['amount'] / paydays_between\n",
    "        #print(savings_per_payday)\n",
    "        #print(index)\n",
    "        goals.loc[index,'save_per_day'] = savings_per_payday\n",
    "\n",
    "    bills['save_per_day'] = np.NaN\n",
    "    for index, row in bills.iterrows():\n",
    "        due_date = row['due_date']\n",
    "        paydays_between = df_cal[(df_cal.payday == 'payday')\n",
    "                                 & (df_cal.Date > today)\n",
    "                                 & (df_cal.Date < due_date)\n",
    "                                ].payday.count()\n",
    "        savings_per_payday = row['amount'] / paydays_between\n",
    "        #print(savings_per_payday)\n",
    "        #print(index)\n",
    "        bills.loc[index,'save_per_day'] = savings_per_payday\n",
    "\n",
    "    # now take the goals data-frame complete with \n",
    "    for index, row in df_cal.iterrows():\n",
    "        if row['payday'] == 'payday':\n",
    "            date = row['Date']\n",
    "            set_aside = goals[['due_date'\n",
    "                               , 'save_per_day']].sum(axis=1).where(goals['due_date'] > date, 0).sum() + bills[['due_date'\n",
    "                       , 'save_per_day'\n",
    "                      ]].sum(axis=1).where(bills['due_date'].dt.day > row['Day'], 0).sum()\n",
    "            df_cal.loc[index, 'set_aside'] = set_aside\n",
    "        else: pass"
   ]
  },
  {
   "cell_type": "code",
   "execution_count": 23,
   "id": "28e00701",
   "metadata": {},
   "outputs": [
    {
     "name": "stderr",
     "output_type": "stream",
     "text": [
      "<ipython-input-22-06a5a27b3736>:8: FutureWarning: Series.dt.weekofyear and Series.dt.week have been deprecated.  Please use Series.dt.isocalendar().week instead.\n",
      "  df[\"Week\"] = df.Date.dt.weekofyear\n"
     ]
    }
   ],
   "source": [
    "df_cal = create_date_table('2021-08-01', '2021-12-31')"
   ]
  },
  {
   "cell_type": "code",
   "execution_count": null,
   "id": "db9efd94",
   "metadata": {},
   "outputs": [],
   "source": [
    "calculate_paydays(df_cal)"
   ]
  },
  {
   "cell_type": "code",
   "execution_count": null,
   "id": "775572a6",
   "metadata": {},
   "outputs": [],
   "source": [
    "goals = pd.read_excel('input_list.xlsx', sheet_name = 'goals')\n",
    "bills = pd.read_excel('input_list.xlsx', sheet_name = 'bills')"
   ]
  },
  {
   "cell_type": "code",
   "execution_count": null,
   "id": "af61b16b",
   "metadata": {},
   "outputs": [],
   "source": [
    "set_aside_all(goals, bills, df_cal)"
   ]
  },
  {
   "cell_type": "code",
   "execution_count": null,
   "id": "7ab23312",
   "metadata": {},
   "outputs": [],
   "source": [
    "df_cal[df_cal['payday']!='nan']"
   ]
  },
  {
   "cell_type": "code",
   "execution_count": null,
   "id": "3ecababb",
   "metadata": {},
   "outputs": [],
   "source": []
  }
 ],
 "metadata": {
  "kernelspec": {
   "display_name": "Python 3",
   "language": "python",
   "name": "python3"
  },
  "language_info": {
   "codemirror_mode": {
    "name": "ipython",
    "version": 3
   },
   "file_extension": ".py",
   "mimetype": "text/x-python",
   "name": "python",
   "nbconvert_exporter": "python",
   "pygments_lexer": "ipython3",
   "version": "3.8.8"
  }
 },
 "nbformat": 4,
 "nbformat_minor": 5
}
